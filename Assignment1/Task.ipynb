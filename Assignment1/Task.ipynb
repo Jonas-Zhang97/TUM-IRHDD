{
  "nbformat": 4,
  "nbformat_minor": 0,
  "metadata": {
    "colab": {
      "provenance": [],
      "authorship_tag": "ABX9TyPystzrjE+T8ViuHBxzyJ/I",
      "include_colab_link": true
    },
    "kernelspec": {
      "name": "python3",
      "display_name": "Python 3"
    },
    "language_info": {
      "name": "python"
    }
  },
  "cells": [
    {
      "cell_type": "markdown",
      "metadata": {
        "id": "view-in-github",
        "colab_type": "text"
      },
      "source": [
        "<a href=\"https://colab.research.google.com/github/66seb/Task3-and-4/blob/main/Task.ipynb\" target=\"_parent\"><img src=\"https://colab.research.google.com/assets/colab-badge.svg\" alt=\"Open In Colab\"/></a>"
      ]
    },
    {
      "cell_type": "code",
      "source": [
        "from IPython.display import Image, display\n",
        "\n",
        "# Replace 'figure1.jpg' with the path to your actual image\n",
        "image_path = 'figure1.jpg'\n",
        "\n",
        "# display\n",
        "display(Image(filename=image_path, width=220))"
      ],
      "metadata": {
        "colab": {
          "base_uri": "https://localhost:8080/",
          "height": 199
        },
        "id": "IELNiqN5bPL0",
        "outputId": "13b52468-0818-4c75-e3f4-6d816ca306f1"
      },
      "execution_count": null,
      "outputs": [
        {
          "output_type": "display_data",
          "data": {
            "image/jpeg": "[encoded data removed]",
            "text/plain": [
              "<IPython.core.display.Image object>"
            ]
          },
          "metadata": {
            "image/jpeg": {
              "width": 220
            }
          }
        }
      ]
    },
    {
      "cell_type": "markdown",
      "source": [
        "\n",
        "\n",
        "## Statistical Decision Making\n",
        "### Task 3\n",
        "\n",
        "\n",
        "\n",
        "Answer the following questions. All answers must be justified.\n",
        "\n",
        "#### *Part A*\n",
        "The numbers in Figure 1 show the probability of the respective event to happen\n",
        "(e.g., the probability for the event $X=1$ and $Y=1$ is $0.02$). Is this table a\n",
        "probability table? If so, why?\n",
        "\n",
        "$$\n",
        "\\because\\,; \\sum_Y \\sum_X p_{X, Y}(x, y) = 0.4+0.14+0.05+0.02+0.26+0.13 = 1\n",
        "$$\n",
        "\n",
        "so,\n",
        "\n",
        "$$\n",
        "\\because\\,; p_{X, Y}(x, y) \\geq 0 \\quad \\forall\\; (x, y) \\in \\{\\mathbf{X} \\times \\mathbf{Y}\\}\n",
        "$$\n",
        "\n",
        "Figure 1 is a probability table.\n",
        "\n",
        "#### *Part B*\n",
        "Based on Figure 1, give the conditional expectation $\\mathbb{E}_{Y \\mid X=2}[Y]$ and the probability of the event $X=1$ under the condition that $Y=3$.\n",
        "\n",
        "First of all, evaluating the conditional probability $Pr(X=1 \\mid Y=3)$:\n",
        "\n",
        "\\begin{align*}\n",
        "& \\because \\; Pr(X=1 \\mid Y=3) = \\frac{Pr(X=1 \\cap Y=3)}{Pr(Y=3)} \\\\\n",
        "& \\Rightarrow Pr(X=1 \\mid Y=3) = \\frac{Pr(X=1 \\cap Y=3)}{\\sum_X Pr(X, Y=3)} \\\\\n",
        "& \\Rightarrow Pr(X=1 \\mid Y=3) = \\frac{0.13}{0.13 + 0.05} \\\\\n",
        "& \\therefore \\; Pr(X=1 \\mid Y=3) = \\frac{13}{18} \\approx 0.722\n",
        "\\end{align*}\n",
        "\n",
        "then, calculating the conditional expectation $\\mathbb{E}_{Y \\mid X=2}[Y]$:\n",
        "\n",
        "\\begin{align*}\n",
        "& \\because \\; \\mathbb{E}_{Y \\mid X=2}[Y] = \\sum_Y Y\\;Pr(Y \\mid X=2) \\\\\n",
        "& \\Rightarrow \\mathbb{E}_{Y \\mid X=2}[Y] = \\sum_Y Y\\;\\frac{Pr(Y \\cap X=2)}{Pr(X=2)} \\\\\n",
        "& \\Rightarrow \\mathbb{E}_{Y \\mid X=2}[Y] = \\frac{1}{Pr(X=2)}\\; \\sum_Y Y\\; Pr(Y \\cap X=2) \\\\\n",
        "& \\Rightarrow \\mathbb{E}_{Y \\mid X=2}[Y] = \\frac{1}{\\sum_Y Pr(X=2, Y)}\\sum_Y Y\\;Pr(Y \\cap X=2) \\\\\n",
        "& \\Rightarrow \\mathbb{E}_{Y \\mid X=2}[Y] = \\frac{1}{0.4+0.14+0.05}(1\\times 0.4 + 2\\times 0.14 + 3\\times 0.05) \\\\\n",
        "& \\therefore \\; \\mathbb{E}_{Y \\mid X=2}[Y] = \\frac{83}{59} \\approx 1.4068\n",
        "\\end{align*}\n",
        "\n",
        "#### *Part C*\n",
        "Is the function $p(x, y)$ given by\n",
        "$$\n",
        "p(x, y) = \\begin{cases}\n",
        "1 & \\quad \\text{for } 0\\leq x\\leq 1\\text{, } 0\\leq y\\leq \\frac{1}{2} \\\\\n",
        "0 & \\quad \\text{otherwise} \\end{cases}\n",
        "$$\n",
        "a joint density function for two random variables?\n",
        "\n",
        "$$\n",
        "\\because \\int_y \\int_x p(x, y)\\; \\mathrm{d}x \\mathrm{d}y = \\int_0^{1/2} \\int_0^1 1\\; \\mathrm{d}x \\mathrm{d}y = \\int_0^{1/2} x\\mid_0^1\\; \\mathrm{d}y = \\int_0^{1/2} 1\\; \\mathrm{d}y = y\\mid_0^{1/2} = \\frac{1}{2} \\neq 1\n",
        "$$\n",
        "\n",
        "so, the function $p(x, y)$ is not a density function.\n",
        "\n",
        "#### *Part D*\n",
        "For two random variables $X$ and $Y$, the joint density function is given by\n",
        "$$\n",
        "p(x, y) = \\begin{cases}\n",
        "2\\mathit{e}^{-(x+y)} & \\quad \\text{for } 0\\leq x\\leq y\\text{, } 0\\leq y \\\\\n",
        "0 & \\quad \\text{otherwise.} \\end{cases}\n",
        "$$\n",
        "What are the marginal density functions for $X$ and $Y$ respectively?\n",
        "\n"
      ],
      "metadata": {
        "id": "kQeK-WUjIUyX"
      }
    },
    {
      "cell_type": "code",
      "source": [
        "import sympy as sp\n",
        "\n",
        "# Defining variables and joint density functions\n",
        "x, y = sp.symbols('x y')\n",
        "joint_density = 2 * sp.exp(-(x + y))\n",
        "\n",
        "# Compute the edge density function of X\n",
        "marginal_x = sp.integrate(joint_density, (y, 0, sp.oo))\n",
        "\n",
        "# Compute the edge density function of y\n",
        "marginal_y = sp.integrate(joint_density, (x, 0, y))\n",
        "\n",
        "# print results\n",
        "marginal_x, marginal_y"
      ],
      "metadata": {
        "colab": {
          "base_uri": "https://localhost:8080/"
        },
        "id": "jtoV5npaP8pt",
        "outputId": "f9cb09ae-8830-4b61-c2f4-4849e55b5f31"
      },
      "execution_count": null,
      "outputs": [
        {
          "output_type": "execute_result",
          "data": {
            "text/plain": [
              "(2*exp(-x), 2*exp(-y) - 2*exp(-2*y))"
            ]
          },
          "metadata": {},
          "execution_count": 17
        }
      ]
    },
    {
      "cell_type": "markdown",
      "source": [
        "First of all, calculating the marginal density function for $\\mathbf{X}$.\n",
        "\n",
        "\\begin{align*}\n",
        "& \\because \\; p(x) = \\int_x^\\infty p(x, y)\\; \\mathrm{d}y\\\\\n",
        "& \\Rightarrow p(x) = \\lim_{u\\to\\infty} \\int_x^u p(x, y)\\; \\mathrm{d}y\\\\\n",
        "& \\Rightarrow p(x) = \\lim_{u\\to\\infty} \\int_x^u 2e^{-(x+y)}\\; \\mathrm{d}y\\\\\n",
        "& \\Rightarrow p(x) = 2e^{-x} \\lim_{u\\to\\infty} \\int_x^u e^{-y}\\; \\mathrm{d}y\\\\\n",
        "& \\Rightarrow p(x) = 2e^{-x} \\lim_{u\\to\\infty} \\big[-e^{-y}\\big]_{y=x}^{y=u}\\\\\n",
        "& \\Rightarrow p(x) = 2e^{-x} \\lim_{u\\to\\infty} \\big[-e^{-u}+e^{-x}\\big]\\\\\n",
        "& \\Rightarrow p(x) = 2e^{-x} \\big[0+e^{-x}\\big]\\\\\n",
        "& \\therefore \\; p(x) = 2e^{-2x}\\\\\n",
        "\\end{align*}\n",
        "\n",
        "Similiar, for $\\mathbf{Y}$\n",
        "\n",
        "\\begin{align*}\n",
        "& \\because \\; p(y) = \\int_0^y p(x, y)\\; \\mathrm{d}x\\\\\n",
        "& \\Rightarrow p(y) = \\int_0^y 2e^{-(x+y)}\\; \\mathrm{d}x\\\\\n",
        "& \\Rightarrow p(y) = 2e^{-y} \\int_0^y e^{-x}\\; \\mathrm{d}x\\\\\n",
        "& \\Rightarrow p(y) = 2e^{-y} \\big[ -e^{-x} \\big]_{x=0}^{x=y}\\\\\n",
        "& \\Rightarrow p(y) = 2e^{-y} \\big[ -e^{-y} + e^0 \\big]\\\\\n",
        "& \\therefore \\; p(y) = 2e^{-y} \\big( 1 - e^{-y} \\big)\\\\\n",
        "\\end{align*}\n",
        "\n",
        "#### *Part E*\n",
        "Let the joint density function of two random variables $X$ and $Y$ be given by\n",
        "$$\n",
        "p(x, y) = \\begin{cases}\n",
        "\\frac{1}{15}(2x+4y) & \\quad \\text{for } 0\\leq x\\leq 3\\text{, } 0\\leq y\\leq 1 \\\\\n",
        "0 & \\quad \\text{otherwise.} \\end{cases}\n",
        "$$\n",
        "Determine the probability for $X\\leq 2$ under the condition that $Y = \\frac{1}{2}$.\n",
        "\n",
        "\n"
      ],
      "metadata": {
        "id": "Bg7hO2RAQhWl"
      }
    },
    {
      "cell_type": "code",
      "source": [
        "import sympy as sp\n",
        "\n",
        "# Defining variables and joint density functions\n",
        "x, y = sp.symbols('x y')\n",
        "joint_density = (2*x + 4*y) / 15\n",
        "\n",
        "# Calculate conditional probability Pr(X <= 2 | Y = 1/2)\n",
        "conditional_probability = sp.integrate(joint_density, (x, 0, 2)) / sp.integrate(joint_density.subs(y, 1/2), (x, 0, 3))\n",
        "\n",
        "# print results\n",
        "conditional_probability.evalf()"
      ],
      "metadata": {
        "colab": {
          "base_uri": "https://localhost:8080/",
          "height": 39
        },
        "id": "3k3Chq6xRsMH",
        "outputId": "602b01a6-4750-4710-c321-907f589825e7"
      },
      "execution_count": null,
      "outputs": [
        {
          "output_type": "execute_result",
          "data": {
            "text/plain": [
              "0.533333333333333*y + 0.266666666666667"
            ],
            "text/latex": "$\\displaystyle 0.533333333333333 y + 0.266666666666667$"
          },
          "metadata": {},
          "execution_count": 18
        }
      ]
    },
    {
      "cell_type": "markdown",
      "source": [
        "$$\n",
        "\\begin{align*}\n",
        "& \\because \\; p(y) = \\int_x p(x, y)\\; \\mathrm{d}x\\\\\n",
        "& \\Rightarrow p(y) = \\int_0^3 p(x, y)\\; \\mathrm{d}x\\\\\n",
        "& \\Rightarrow p(y) = \\int_0^3 \\frac{1}{15}(2x+4y)\\; \\mathrm{d}x\\\\\n",
        "& \\Rightarrow p(y) = \\frac{1}{15} \\left(\\frac{1}{5}(4y+3)x^2\\right)\\Big|_{x=0}^3\\\\\n",
        "& \\therefore \\; p(y) = \\frac{1}{5} (4y+3)\\\\\n",
        "\\end{align*}\n",
        "$$\n",
        "\n",
        "so,\n",
        "\n",
        "$$\n",
        "\\begin{align*}\n",
        "& \\because \\; Pr(X\\leq 2 \\mid Y=\\frac{1}{2}) = \\int_0^2 \\frac{p(x, y)}{p(y)}\\Big|_{y=\\frac{1}{2}}\\; \\mathrm{d}x\\\\\n",
        "& \\Rightarrow Pr(X\\leq 2 \\mid Y=\\frac{1}{2}) = \\int_0^2 \\frac{2x+4y}{12y+9}\\Big|_{y=\\frac{1}{2}}\\; \\mathrm{d}x\\\\\n",
        "& \\Rightarrow Pr(X\\leq 2 \\mid Y=\\frac{1}{2}) = \\int_0^2 \\frac{2x+2}{15}\\; \\mathrm{d}x\\\\\n",
        "& \\Rightarrow Pr(X\\leq 2 \\mid Y=\\frac{1}{2}) = \\frac{1}{15} (x^2+2x)\\Big|_0^2\\\\\n",
        "& \\therefore \\; Pr(X\\leq 2 \\mid Y=\\frac{1}{2}) = \\frac{8}{15}\n",
        "\\end{align*}\n",
        "$$\n",
        "\n",
        "### Task 4\n",
        "Show that the covariance matrix $\\mathbf{C}$ of any random variable $\\mathbf{X}\\in\\mathbb{R}^p$ is symmetric positive semidefinite, i.e. $\\mathbf{C}=\\mathbf{C}^T$ and $\\mathbf{x}^T\\mathbf{Cx}\\geq 0$ for any covariance matrix $\\mathbf{C}\\in\\mathbb{R}^{p\\times p}$ and any $\\mathbf{x}\\in\\mathbb{R}^p$.\n",
        "\n",
        " # Firstcof all  proving the 𝐂=𝐂^𝑇:\n",
        "\n",
        "\n",
        "\\begin{align*}\n",
        "& \\because \\quad \\, \\; \\mathbf{C} = \\mathbb{E}((\\mathbf{X}-\\mathbf{\\mu})(\\mathbf{X}-\\mathbf{\\mu})^T) \\\\\n",
        "& \\Rightarrow \\quad \\mathbf{C} = \\mathbb{E}((\\mathbf{X}-\\mathbf{\\mu})(\\mathbf{X}^T-\\mathbf{\\mu}^T)) \\\\\n",
        "& \\Rightarrow \\quad \\mathbf{C} = \\mathbb{E}(\\mathbf{XX}^T-\\mathbf{X\\mu}^T-\\mathbf{\\mu X}^T+\\mathbf{\\mu\\mu}^T) \\\\\n",
        "& \\Rightarrow \\quad \\mathbf{C} = \\mathbb{E}(\\mathbf{XX}^T)-\\mathbb{E}(\\mathbf{X\\mu}^T)-\\mathbb{E}(\\mathbf{\\mu X}^T)+\\mathbb{E}(\\mathbf{\\mu\\mu}^T) \\\\\n",
        "& \\Rightarrow \\quad \\mathbf{C} = \\mathbb{E}(\\mathbf{XX}^T)-\\mathbb{E}(\\mathbf{X})\\mathbf{\\mu}^T-\\mathbf{\\mu}\\mathbb{E}(\\mathbf{X}^T)+\\mathbf{\\mu\\mu}^T \\\\\n",
        "& \\Rightarrow \\quad \\mathbf{C} = \\mathbb{E}(\\mathbf{XX}^T)-\\mathbf{\\mu\\mu}^T-\\mathbf{\\mu\\mu}^T+\\mathbf{\\mu\\mu}^T \\\\\n",
        "& \\Rightarrow \\quad \\mathbf{C} = \\mathbb{E}(\\mathbf{XX}^T)-\\mathbf{\\mu\\mu}^T \\\\\n",
        "& \\Rightarrow \\quad \\mathbf{C}^T = \\mathbb{E}(\\mathbf{XX}^T)^T-(\\mathbf{\\mu\\mu}^T)^T \\\\\n",
        "& \\Rightarrow \\quad \\mathbf{C}^T = \\mathbb{E}((\\mathbf{XX}^T)^T)-(\\mathbf{\\mu\\mu}^T)^T \\\\\n",
        "& \\Rightarrow \\quad \\mathbf{C}^T = \\mathbb{E}((\\mathbf{X}^T)^T(\\mathbf{X})^T)-(\\mathbf{\\mu}^T)^T(\\mathbf{\\mu})^T \\\\\n",
        "& \\Rightarrow \\quad \\mathbf{C}^T = \\mathbb{E}(\\mathbf{X}\\mathbf{X}^T)-\\mathbf{\\mu}\\mathbf{\\mu}^T \\\\\n",
        "& \\therefore \\quad \\, \\; \\mathbf{C}^T = \\mathbf{C} \\\\\n",
        "\\end{align*}\n",
        "\n",
        "\n",
        "# then, proving the 𝑥^𝑇𝐶𝑥≥0:\n",
        "\n",
        "\n",
        "\\begin{align*}\n",
        "& \\because \\quad \\, \\; \\mathbf{C} = \\mathbb{E}((\\mathbf{X}-\\mathbf{\\mu})(\\mathbf{X}-\\mathbf{\\mu})^T) \\\\\n",
        "& \\Rightarrow \\quad \\mathbf{x}^T\\mathbf{Cx} = \\mathbf{x}^T\\mathbb{E}((\\mathbf{X}-\\mathbf{\\mu})(\\mathbf{X}-\\mathbf{\\mu})^T)\\mathbf{x} \\\\\n",
        "& \\Rightarrow \\quad \\mathbf{x}^T\\mathbf{Cx} = \\mathbb{E}(\\mathbf{x}^T(\\mathbf{X}-\\mathbf{\\mu})(\\mathbf{X}-\\mathbf{\\mu})^T\\mathbf{x}) \\\\\n",
        "& \\Rightarrow \\quad \\mathbf{x}^T\\mathbf{Cx} = \\mathbb{E}((\\mathbf{x}^T(\\mathbf{X}-\\mathbf{\\mu}))(\\mathbf{x}^T(\\mathbf{X}-\\mathbf{\\mu}))^T) \\\\\n",
        "& \\Rightarrow \\quad \\mathbf{x}^T\\mathbf{Cx} = \\mathbb{E}(YY^T) \\\\\n",
        "& \\Rightarrow \\quad \\mathbf{x}^T\\mathbf{Cx} = \\mathbb{E}(Y^2) \\\\\n",
        "& \\therefore \\quad \\mathbf{x}^T\\mathbf{Cx} \\geq 0 \\\\\n",
        "\\end{align*}\n",
        "\n"
      ],
      "metadata": {
        "id": "cTmRXeOpR5_B"
      }
    }
  ]
}